{
 "cells": [
  {
   "cell_type": "code",
   "execution_count": 10,
   "id": "c89c1d85-257b-4d98-8b10-bf0a2270fdb1",
   "metadata": {},
   "outputs": [
    {
     "name": "stdout",
     "output_type": "stream",
     "text": [
      "Folder zipped at: /workspace/tulipani-gan/tulipani-gan_zipped.zip\n"
     ]
    }
   ],
   "source": [
    "import os\n",
    "from zipfile import ZipFile\n",
    "\n",
    "def zip_folder_exclude(folder_path, excludes):\n",
    "    # Define zip file name with folder path\n",
    "    base_name = os.path.basename(os.path.normpath(folder_path))\n",
    "    zip_file_name = f\"{base_name}_zipped.zip\"\n",
    "    zip_file_path = os.path.join(folder_path, zip_file_name)\n",
    "    \n",
    "    # Convert excludes to relative paths for comparison and include the zip file itself\n",
    "    full_excludes = [os.path.join(folder_path, ex) for ex in excludes] + [zip_file_path]\n",
    "    \n",
    "    # If zip exists, delete it\n",
    "    if os.path.exists(zip_file_path):\n",
    "        os.remove(zip_file_path)\n",
    "\n",
    "    with ZipFile(zip_file_path, 'w') as zipf:\n",
    "        for root, dirs, files in os.walk(folder_path):\n",
    "            # Update dirs in-place to skip excluded folders\n",
    "            dirs[:] = [d for d in dirs if os.path.join(root, d) not in full_excludes]\n",
    "            for file in files:\n",
    "                file_path = os.path.join(root, file)\n",
    "                if file_path not in full_excludes:\n",
    "                    # Create a relative path for files to maintain the folder structure inside the zip\n",
    "                    relative_path = os.path.relpath(file_path, folder_path)\n",
    "                    zipf.write(file_path, relative_path)\n",
    "    print(f\"Folder zipped at: {zip_file_path}\")\n",
    "\n",
    "# Example usage:\n",
    "folder_name = 'tulipani-gan'\n",
    "zip_folder_exclude(f'/workspace/{folder_name}', [f'{folder_name}_zipped.zip', 'datasets', 'stylegan3', 'anyres-gan', 'mmgeneration', 'stylegan2ada'])"
   ]
  },
  {
   "cell_type": "code",
   "execution_count": null,
   "id": "107e67d8-8155-4cc8-b46d-756e0972f549",
   "metadata": {},
   "outputs": [],
   "source": [
    "# !python stylegan3/dataset_tool.py --source datasets/Tulipani_1_parts \\\n",
    "# --dest datasets/Tulipani_1_parts_1024_c.zip \\\n",
    "# --resolution=1024x1024 --transform=center-crop"
   ]
  }
 ],
 "metadata": {
  "kernelspec": {
   "display_name": "Python 3 (ipykernel)",
   "language": "python",
   "name": "python3"
  },
  "language_info": {
   "codemirror_mode": {
    "name": "ipython",
    "version": 3
   },
   "file_extension": ".py",
   "mimetype": "text/x-python",
   "name": "python",
   "nbconvert_exporter": "python",
   "pygments_lexer": "ipython3",
   "version": "3.10.12"
  }
 },
 "nbformat": 4,
 "nbformat_minor": 5
}
