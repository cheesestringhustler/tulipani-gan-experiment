{
 "cells": [
  {
   "cell_type": "code",
   "execution_count": null,
   "id": "44cb0ce7-8a9c-411e-9f61-9a0a40c1e701",
   "metadata": {},
   "outputs": [],
   "source": [
    "!nvidia-smi -L\n",
    "!nvidia-smi"
   ]
  },
  {
   "cell_type": "code",
   "execution_count": null,
   "id": "37fd8a3e-6ac5-4e71-96a5-5f57558c0bff",
   "metadata": {},
   "outputs": [],
   "source": [
    "# !pip3 install torch torchvision torchaudio\n",
    "# !pip3 install scipy\n",
    "# !pip3 install ninja\n",
    "# !pip3 install einops\n",
    "# !sudo apt install build-essential "
   ]
  },
  {
   "cell_type": "code",
   "execution_count": null,
   "id": "9432e2a2-4a30-4e50-a627-835d972e8e1b",
   "metadata": {},
   "outputs": [],
   "source": [
    "import torch\n",
    "print(torch.__version__)\n",
    "torch.cuda.is_available()"
   ]
  },
  {
   "cell_type": "code",
   "execution_count": null,
   "id": "4b042015-fdae-4ab3-adbb-265ad4172453",
   "metadata": {},
   "outputs": [],
   "source": [
    "!pwd"
   ]
  },
  {
   "cell_type": "code",
   "execution_count": null,
   "id": "4cfe289b-ee54-4299-9b6f-c194865499c4",
   "metadata": {},
   "outputs": [],
   "source": [
    "import os\n",
    "\n",
    "### adjust path\n",
    "workspace_path='/workspace/tulipani-gan/'\n",
    "\n",
    "%cd {workspace_path}\n",
    "\n",
    "if os.path.isdir('./stylegan3'):\n",
    "    %cd './stylegan3'\n",
    "else:\n",
    "    !git clone https://github.com/NVlabs/stylegan3\n",
    "    %cd stylegan3"
   ]
  },
  {
   "cell_type": "code",
   "execution_count": null,
   "id": "1c2c4cf0-7769-4d43-9e13-e844d9c7ce1a",
   "metadata": {},
   "outputs": [],
   "source": [
    "data_path_256=workspace_path+'datasets/Tulipani_1_squares_256.zip'\n",
    "data_path_512=workspace_path+'datasets/Tulipani_1_squares_512.zip'\n",
    "data_path_1024=workspace_path+'datasets/Tulipani_1_squares_1024.zip'\n",
    "data_path_parts_1024=workspace_path+'datasets/Tulipani_1_parts_1024_c.zip'\n",
    "\n",
    "outdir=workspace_path+'results/stylegan3'\n",
    "\n",
    "gpus=3\n",
    "batch_gpu_256=16\n",
    "batch_gpu_512=8\n",
    "batch_gpu_1024=4\n",
    "gamma_256=2\n",
    "gamma_512=8\n",
    "gamma_1024=32\n",
    "snaps=100\n",
    "ticks=10\n",
    "kimgs=10000\n",
    "# metrics=none #fid50k_full #none"
   ]
  },
  {
   "cell_type": "code",
   "execution_count": null,
   "id": "e72f7e3f-85b1-4592-bca2-bdf896c8dc46",
   "metadata": {},
   "outputs": [],
   "source": [
    "# https://github.com/NVlabs/stylegan3/blob/main/docs/configs.md"
   ]
  },
  {
   "cell_type": "code",
   "execution_count": null,
   "id": "8261c15e-ba84-4644-a292-a697de7e3ed5",
   "metadata": {},
   "outputs": [],
   "source": [
    "# 256 | no mirror\n",
    "!python train.py --outdir={outdir} --cfg=stylegan3-t \\\n",
    "--data={data_path_256} \\\n",
    "--gpus={gpus} --batch=32 --batch-gpu={batch_gpu_256} --gamma={gamma_256} --kimg={kimgs} --snap={snaps} --tick={ticks} \\\n",
    "--metrics=none --seed=0 --mirror=0"
   ]
  },
  {
   "cell_type": "code",
   "execution_count": null,
   "id": "38141e67-9c3d-44f6-a388-9721362e73f9",
   "metadata": {},
   "outputs": [],
   "source": [
    "# 256 | mirror\n",
    "!python train.py --outdir={outdir} --cfg=stylegan3-t \\\n",
    "--data={data_path_256} \\\n",
    "--gpus={gpus} --batch=32 --batch-gpu={batch_gpu_256} --gamma={gamma_256} --kimg={kimgs} --snap={snaps} --tick={ticks} \\\n",
    "--metrics=none --seed=0 --mirror=1"
   ]
  },
  {
   "cell_type": "code",
   "execution_count": null,
   "id": "41907f25-7e5a-4d4e-ae5f-a7b4e696cec1",
   "metadata": {},
   "outputs": [],
   "source": [
    "# 512 | no mirror\n",
    "!python train.py --outdir={outdir} --cfg=stylegan3-t \\\n",
    "--data={data_path_512} \\\n",
    "--gpus={gpus} --batch=32 --batch-gpu={batch_gpu_512} --gamma={gamma_512} --kimg={kimgs} --snap={snaps} --tick={ticks} \\\n",
    "--metrics=none --seed=0 --mirror=0"
   ]
  },
  {
   "cell_type": "code",
   "execution_count": null,
   "id": "7be2969f-30e1-4607-a305-528d4fb50397",
   "metadata": {},
   "outputs": [],
   "source": [
    "# 512 | mirror\n",
    "!python train.py --outdir={outdir} --cfg=stylegan3-t \\\n",
    "--data={data_path_512} \\\n",
    "--gpus={gpus} --batch=32 --batch-gpu={batch_gpu_512} --gamma={gamma_512} --kimg={kimgs} --snap={snaps} --tick={ticks} \\\n",
    "--metrics=none --seed=0 --mirror=1"
   ]
  },
  {
   "cell_type": "code",
   "execution_count": null,
   "id": "12581663-4ab2-4eeb-adcb-6652b0519d6f",
   "metadata": {},
   "outputs": [],
   "source": [
    "# 1024 | no mirror\n",
    "!python train.py --outdir={outdir} --cfg=stylegan3-t \\\n",
    "--data={data_path_1024} \\\n",
    "--gpus={gpus} --batch=32 --batch-gpu={batch_gpu_1024} --gamma={gamma_1024} --kimg={kimgs} --snap={snaps} --tick={ticks} \\\n",
    "--metrics=none --seed=0 --mirror=0"
   ]
  },
  {
   "cell_type": "code",
   "execution_count": null,
   "id": "0bd5f010-1aff-4061-8e3c-270cd774178d",
   "metadata": {},
   "outputs": [],
   "source": [
    "# 1024 | mirror\n",
    "!python train.py --outdir={outdir} --cfg=stylegan3-t \\\n",
    "--data={data_path_1024} \\\n",
    "--gpus={gpus} --batch=32 --batch-gpu={batch_gpu_1024} --gamma={gamma_1024} --kimg={kimgs} --snap={snaps} --tick={ticks} \\\n",
    "--metrics=none --seed=0 --mirror=1"
   ]
  },
  {
   "cell_type": "code",
   "execution_count": null,
   "id": "a0be9902-eb6b-4624-87e8-892576290b1f",
   "metadata": {},
   "outputs": [],
   "source": [
    "# _parts | 1024 | no mirror\n",
    "!python train.py --outdir={outdir} --cfg=stylegan3-t \\\n",
    "--data={data_path_parts_1024} \\\n",
    "--gpus={gpus} --batch=32 --batch-gpu={batch_gpu_1024} --gamma={gamma_1024} --kimg={kimgs} --snap={snaps} --tick={ticks} \\\n",
    "--metrics=none --seed=0 --mirror=0\n",
    "\n"
   ]
  },
  {
   "cell_type": "code",
   "execution_count": null,
   "id": "8699eb12-727d-418b-8805-69baab04ac0d",
   "metadata": {},
   "outputs": [],
   "source": [
    "# _parts | 1024 | mirror\n",
    "!python train.py --outdir={outdir} --cfg=stylegan3-t \\\n",
    "--data={data_path_parts_1024} \\\n",
    "--gpus={gpus} --batch=32 --batch-gpu={batch_gpu_1024} --gamma={gamma_1024} --kimg={kimgs} --snap={snaps} --tick={ticks} \\\n",
    "--metrics=none --seed=0 --mirror=1"
   ]
  },
  {
   "cell_type": "code",
   "execution_count": null,
   "id": "09f55a87-0a72-427a-a950-0d5b6bb4439f",
   "metadata": {},
   "outputs": [],
   "source": []
  }
 ],
 "metadata": {
  "kernelspec": {
   "display_name": "Python 3 (ipykernel)",
   "language": "python",
   "name": "python3"
  },
  "language_info": {
   "codemirror_mode": {
    "name": "ipython",
    "version": 3
   },
   "file_extension": ".py",
   "mimetype": "text/x-python",
   "name": "python",
   "nbconvert_exporter": "python",
   "pygments_lexer": "ipython3",
   "version": "3.8.5"
  }
 },
 "nbformat": 4,
 "nbformat_minor": 5
}
